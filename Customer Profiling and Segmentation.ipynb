{
 "cells": [
  {
   "cell_type": "markdown",
   "metadata": {
    "_uuid": "054f0cca3061be223d76116cb8544b598eb5a297"
   },
   "source": [
    "# Customer Profiling and Segmentation\n",
    "\n",
    "In this notebook, we will be using the recency, frequency and monetary value information of custumers to profile and segment them. Our choice of algorithm for this will be the K-Means clustering algorithm.\n",
    "\n",
    "The K-Means clustering algorithm is a Machine Learning algorithm that attempts to split a given data set into a fixed number (K) of clusters. The following example image shows how an unsegmented dataset gets segmented using the K-Means clustering algorithm when the number of clusters are properly specified: \n",
    "\n",
    "<img src = \"images/kmeans_clustering.png\" width=\"500\">"
   ]
  },
  {
   "cell_type": "markdown",
   "metadata": {},
   "source": [
    "We will require the scikit-learn library to use the **K-Means Clustering algorithm**. You can install the library using the following command:"
   ]
  },
  {
   "cell_type": "code",
   "execution_count": 49,
   "metadata": {},
   "outputs": [],
   "source": [
    "# !pip install scikit-learn"
   ]
  },
  {
   "cell_type": "markdown",
   "metadata": {
    "_uuid": "fd0fc89fe26333add074845d0629b52ae828584c"
   },
   "source": [
    "Now, let us start by importing the necessary libraries,"
   ]
  },
  {
   "cell_type": "code",
   "execution_count": 1,
   "metadata": {
    "_cell_guid": "b1076dfc-b9ad-4769-8c92-a6c4dae69d19",
    "_kg_hide-input": false,
    "_uuid": "8f2839f25d086af736a60e9eeb907d3b93b6e0e5"
   },
   "outputs": [],
   "source": [
    "import pandas as pd\n",
    "import matplotlib.pyplot as plt\n",
    "from sklearn.cluster import KMeans\n",
    "\n",
    "%matplotlib inline"
   ]
  },
  {
   "cell_type": "markdown",
   "metadata": {
    "_uuid": "5b838f778af8cb2740c6d54e5bb6608223ab54f4"
   },
   "source": [
    "Next, importing the CSV file called `user_dataset.csv` which contains information about the recency, frequency and monetary value of customers."
   ]
  },
  {
   "cell_type": "code",
   "execution_count": 2,
   "metadata": {
    "_cell_guid": "79c7e3d0-c299-4dcb-8224-4455121ee9b0",
    "_uuid": "d629ff2d2480ee46fbb7e2d37f6b5fab8052498a",
    "scrolled": true
   },
   "outputs": [],
   "source": [
    "# Read the CSV data as a Pandas DataFrame\n",
    "user_df = pd.read_csv('data/user_dataset.csv')"
   ]
  },
  {
   "cell_type": "code",
   "execution_count": 3,
   "metadata": {},
   "outputs": [
    {
     "data": {
      "text/html": [
       "<div>\n",
       "<style scoped>\n",
       "    .dataframe tbody tr th:only-of-type {\n",
       "        vertical-align: middle;\n",
       "    }\n",
       "\n",
       "    .dataframe tbody tr th {\n",
       "        vertical-align: top;\n",
       "    }\n",
       "\n",
       "    .dataframe thead th {\n",
       "        text-align: right;\n",
       "    }\n",
       "</style>\n",
       "<table border=\"1\" class=\"dataframe\">\n",
       "  <thead>\n",
       "    <tr style=\"text-align: right;\">\n",
       "      <th></th>\n",
       "      <th>CustomerID</th>\n",
       "      <th>Recency</th>\n",
       "      <th>Frequency</th>\n",
       "      <th>AmountSpent</th>\n",
       "    </tr>\n",
       "  </thead>\n",
       "  <tbody>\n",
       "    <tr>\n",
       "      <th>0</th>\n",
       "      <td>18074</td>\n",
       "      <td>373</td>\n",
       "      <td>13</td>\n",
       "      <td>489.60</td>\n",
       "    </tr>\n",
       "    <tr>\n",
       "      <th>1</th>\n",
       "      <td>13747</td>\n",
       "      <td>373</td>\n",
       "      <td>1</td>\n",
       "      <td>79.60</td>\n",
       "    </tr>\n",
       "    <tr>\n",
       "      <th>2</th>\n",
       "      <td>12791</td>\n",
       "      <td>373</td>\n",
       "      <td>2</td>\n",
       "      <td>192.60</td>\n",
       "    </tr>\n",
       "    <tr>\n",
       "      <th>3</th>\n",
       "      <td>17908</td>\n",
       "      <td>373</td>\n",
       "      <td>58</td>\n",
       "      <td>243.28</td>\n",
       "    </tr>\n",
       "    <tr>\n",
       "      <th>4</th>\n",
       "      <td>16583</td>\n",
       "      <td>373</td>\n",
       "      <td>14</td>\n",
       "      <td>233.45</td>\n",
       "    </tr>\n",
       "  </tbody>\n",
       "</table>\n",
       "</div>"
      ],
      "text/plain": [
       "   CustomerID  Recency  Frequency  AmountSpent\n",
       "0       18074      373         13       489.60\n",
       "1       13747      373          1        79.60\n",
       "2       12791      373          2       192.60\n",
       "3       17908      373         58       243.28\n",
       "4       16583      373         14       233.45"
      ]
     },
     "execution_count": 3,
     "metadata": {},
     "output_type": "execute_result"
    }
   ],
   "source": [
    "# Looking at the first five rows\n",
    "user_df.head()"
   ]
  },
  {
   "cell_type": "code",
   "execution_count": 4,
   "metadata": {},
   "outputs": [
    {
     "data": {
      "text/plain": [
       "(4372, 4)"
      ]
     },
     "execution_count": 4,
     "metadata": {},
     "output_type": "execute_result"
    }
   ],
   "source": [
    "# Printing the shape of the DataFrame\n",
    "user_df.shape"
   ]
  },
  {
   "cell_type": "markdown",
   "metadata": {},
   "source": [
    "Next, let us initiate the K-Means clustering algorithm with a total number of 4 clusters. \n",
    "\n",
    "Note that, there are different methods to determine how many clusters should be made in a dataset but we will not get into that for now."
   ]
  },
  {
   "cell_type": "code",
   "execution_count": 5,
   "metadata": {},
   "outputs": [],
   "source": [
    "# Build 4 clusters \n",
    "kmeans = KMeans(n_clusters=4)"
   ]
  },
  {
   "cell_type": "markdown",
   "metadata": {},
   "source": [
    "### Segmenting Customers based on Recency"
   ]
  },
  {
   "cell_type": "markdown",
   "metadata": {},
   "source": [
    "We will now fit the model object into the recency values in our dataframe."
   ]
  },
  {
   "cell_type": "code",
   "execution_count": 6,
   "metadata": {
    "scrolled": true
   },
   "outputs": [
    {
     "data": {
      "text/plain": [
       "KMeans(algorithm='auto', copy_x=True, init='k-means++', max_iter=300,\n",
       "       n_clusters=4, n_init=10, n_jobs=None, precompute_distances='auto',\n",
       "       random_state=None, tol=0.0001, verbose=0)"
      ]
     },
     "execution_count": 6,
     "metadata": {},
     "output_type": "execute_result"
    }
   ],
   "source": [
    "kmeans.fit(user_df[['Recency']])"
   ]
  },
  {
   "cell_type": "markdown",
   "metadata": {},
   "source": [
    "Predicting the value of clusters and saving them as a new column `RecencyCluster` in the dataframe."
   ]
  },
  {
   "cell_type": "code",
   "execution_count": 7,
   "metadata": {},
   "outputs": [],
   "source": [
    "user_df['RecencyCluster'] = kmeans.predict(user_df[['Recency']])"
   ]
  },
  {
   "cell_type": "code",
   "execution_count": 8,
   "metadata": {},
   "outputs": [
    {
     "data": {
      "text/html": [
       "<div>\n",
       "<style scoped>\n",
       "    .dataframe tbody tr th:only-of-type {\n",
       "        vertical-align: middle;\n",
       "    }\n",
       "\n",
       "    .dataframe tbody tr th {\n",
       "        vertical-align: top;\n",
       "    }\n",
       "\n",
       "    .dataframe thead th {\n",
       "        text-align: right;\n",
       "    }\n",
       "</style>\n",
       "<table border=\"1\" class=\"dataframe\">\n",
       "  <thead>\n",
       "    <tr style=\"text-align: right;\">\n",
       "      <th></th>\n",
       "      <th>CustomerID</th>\n",
       "      <th>Recency</th>\n",
       "      <th>Frequency</th>\n",
       "      <th>AmountSpent</th>\n",
       "      <th>RecencyCluster</th>\n",
       "    </tr>\n",
       "  </thead>\n",
       "  <tbody>\n",
       "    <tr>\n",
       "      <th>0</th>\n",
       "      <td>18074</td>\n",
       "      <td>373</td>\n",
       "      <td>13</td>\n",
       "      <td>489.60</td>\n",
       "      <td>1</td>\n",
       "    </tr>\n",
       "    <tr>\n",
       "      <th>1</th>\n",
       "      <td>13747</td>\n",
       "      <td>373</td>\n",
       "      <td>1</td>\n",
       "      <td>79.60</td>\n",
       "      <td>1</td>\n",
       "    </tr>\n",
       "    <tr>\n",
       "      <th>2</th>\n",
       "      <td>12791</td>\n",
       "      <td>373</td>\n",
       "      <td>2</td>\n",
       "      <td>192.60</td>\n",
       "      <td>1</td>\n",
       "    </tr>\n",
       "    <tr>\n",
       "      <th>3</th>\n",
       "      <td>17908</td>\n",
       "      <td>373</td>\n",
       "      <td>58</td>\n",
       "      <td>243.28</td>\n",
       "      <td>1</td>\n",
       "    </tr>\n",
       "    <tr>\n",
       "      <th>4</th>\n",
       "      <td>16583</td>\n",
       "      <td>373</td>\n",
       "      <td>14</td>\n",
       "      <td>233.45</td>\n",
       "      <td>1</td>\n",
       "    </tr>\n",
       "  </tbody>\n",
       "</table>\n",
       "</div>"
      ],
      "text/plain": [
       "   CustomerID  Recency  Frequency  AmountSpent  RecencyCluster\n",
       "0       18074      373         13       489.60               1\n",
       "1       13747      373          1        79.60               1\n",
       "2       12791      373          2       192.60               1\n",
       "3       17908      373         58       243.28               1\n",
       "4       16583      373         14       233.45               1"
      ]
     },
     "execution_count": 8,
     "metadata": {},
     "output_type": "execute_result"
    }
   ],
   "source": [
    "user_df.head()"
   ]
  },
  {
   "cell_type": "markdown",
   "metadata": {},
   "source": [
    "We have now segmented our customers based on **Recency** into 4 different clusters. Let us now see the distribution of data in the 4 clusters."
   ]
  },
  {
   "cell_type": "code",
   "execution_count": 12,
   "metadata": {},
   "outputs": [
    {
     "data": {
      "text/plain": [
       "<matplotlib.axes._subplots.AxesSubplot at 0x14b9ed53c70>"
      ]
     },
     "execution_count": 12,
     "metadata": {},
     "output_type": "execute_result"
    },
    {
     "data": {
      "image/png": "[encoded data removed]",
      "text/plain": [
       "<Figure size 432x288 with 1 Axes>"
      ]
     },
     "metadata": {
      "needs_background": "light"
     },
     "output_type": "display_data"
    }
   ],
   "source": [
    "user_df['RecencyCluster'].value_counts().plot.bar()"
   ]
  },
  {
   "cell_type": "markdown",
   "metadata": {},
   "source": [
    "We can see that the data has been distributed into different clusters namely 0, 1, 2, and 3. However, the K-Means Algorithm does not differentiate the ranking of clusters based on their order. We will hence order them using the code below."
   ]
  },
  {
   "cell_type": "code",
   "execution_count": null,
   "metadata": {},
   "outputs": [],
   "source": [
    "# Ordering cluster numbers\n",
    "def order_cluster(cluster_name, column_name, df, ascending):\n",
    "    \"\"\"\n",
    "    Ranking clusters based on their values.\n",
    "    \"\"\"\n",
    "    # Group the dataframe based on different cluster values and find the mean\n",
    "    df_new = df.groupby(cluster_name)[column_name].mean().reset_index()\n",
    "    # \n",
    "    df_new = df_new.sort_values(by=column_name,ascending=ascending).reset_index(drop=True)\n",
    "    df_new['index'] = df_new.index\n",
    "    df_final = pd.merge(df,df_new[[cluster_name,'index']], on=cluster_name)\n",
    "    df_final = df_final.drop([cluster_name],axis=1)\n",
    "    df_final = df_final.rename(columns={\"index\":cluster_name})\n",
    "    return df_final"
   ]
  },
  {
   "cell_type": "code",
   "execution_count": null,
   "metadata": {},
   "outputs": [],
   "source": [
    "df_user = order_cluster('RecencyCluster', 'Recency', df_user, False)"
   ]
  },
  {
   "cell_type": "markdown",
   "metadata": {},
   "source": [
    "Lets see how our data looks like now."
   ]
  },
  {
   "cell_type": "code",
   "execution_count": null,
   "metadata": {},
   "outputs": [],
   "source": [
    "df_user.groupby('RecencyCluster')['Recency'].describe()"
   ]
  },
  {
   "cell_type": "markdown",
   "metadata": {},
   "source": [
    "We can clearly see that the data is more understandable now."
   ]
  },
  {
   "cell_type": "markdown",
   "metadata": {},
   "source": [
    "### Segmenting Customers based on Frequency"
   ]
  },
  {
   "cell_type": "markdown",
   "metadata": {},
   "source": [
    "We will now fit the model object into the frequency values in our dataframe."
   ]
  },
  {
   "cell_type": "code",
   "execution_count": 29,
   "metadata": {},
   "outputs": [],
   "source": [
    "kmeans.fit(df_user[['Frequency']])"
   ]
  },
  {
   "cell_type": "markdown",
   "metadata": {},
   "source": [
    "Predicting the value of clusters and saving them as a new column `FrequencyCluster` in the dataframe."
   ]
  },
  {
   "cell_type": "code",
   "execution_count": 29,
   "metadata": {},
   "outputs": [],
   "source": [
    "df_user['FrequencyCluster'] = kmeans.predict(df_user[['Frequency']])"
   ]
  },
  {
   "cell_type": "code",
   "execution_count": null,
   "metadata": {},
   "outputs": [],
   "source": [
    "# Order the frequency cluster\n",
    "df_user = order_cluster('FrequencyCluster', 'Frequency',df_user,True)\n",
    "\n",
    "# See details of each cluster\n",
    "df_user.groupby('FrequencyCluster')['Frequency'].describe()"
   ]
  },
  {
   "cell_type": "markdown",
   "metadata": {},
   "source": [
    "### Segmenting Customers based on Revenue"
   ]
  },
  {
   "cell_type": "markdown",
   "metadata": {},
   "source": [
    "We will now fit the model object into the revenue values in our dataframe."
   ]
  },
  {
   "cell_type": "code",
   "execution_count": null,
   "metadata": {},
   "outputs": [],
   "source": [
    "kmeans.fit(df_user[['AmountSpent']])"
   ]
  },
  {
   "cell_type": "markdown",
   "metadata": {},
   "source": [
    "Predicting the value of clusters and saving them as a new column `RevenueCluster` in the dataframe."
   ]
  },
  {
   "cell_type": "code",
   "execution_count": null,
   "metadata": {},
   "outputs": [],
   "source": [
    "df_user['RevenueCluster'] = kmeans.predict(df_user[['AmountSpent']])"
   ]
  },
  {
   "cell_type": "code",
   "execution_count": null,
   "metadata": {},
   "outputs": [],
   "source": [
    "# Order the cluster numbers\n",
    "df_user = order_cluster('RevenueCluster', 'AmountSpent',df_user,True)\n",
    "\n",
    "# Show details of the dataframe\n",
    "df_user.groupby('RevenueCluster')['AmountSpent'].describe()"
   ]
  },
  {
   "cell_type": "markdown",
   "metadata": {},
   "source": [
    "Finally, we will combine all three values of clusters to compute the overall RFM Score of each of the customers."
   ]
  },
  {
   "cell_type": "code",
   "execution_count": null,
   "metadata": {},
   "outputs": [],
   "source": [
    "# Calculate overall score\n",
    "df_user['OverallScore'] = df_user['RecencyCluster'] + df_user['FrequencyCluster'] + df_user['RevenueCluster']\n",
    "df_user.groupby('OverallScore')['Recency','Frequency','AmountSpent'].mean()"
   ]
  },
  {
   "cell_type": "code",
   "execution_count": null,
   "metadata": {},
   "outputs": [],
   "source": [
    "df_user.head()"
   ]
  },
  {
   "cell_type": "markdown",
   "metadata": {},
   "source": [
    "## Segmenting Customers based on Overall Score"
   ]
  },
  {
   "cell_type": "markdown",
   "metadata": {},
   "source": [
    "We will now segment the customers into three groups based on overall score."
   ]
  },
  {
   "cell_type": "code",
   "execution_count": null,
   "metadata": {},
   "outputs": [],
   "source": [
    "# Segment the customers based on overall score\n",
    "df_user['Segment'] = 'Low-Value'\n",
    "df_user.loc[df_user['OverallScore']>2,'Segment'] = 'Mid-Value' \n",
    "df_user.loc[df_user['OverallScore']>4,'Segment'] = 'High-Value' "
   ]
  },
  {
   "cell_type": "markdown",
   "metadata": {},
   "source": [
    "### Plot the segmentation "
   ]
  },
  {
   "cell_type": "markdown",
   "metadata": {},
   "source": [
    "#### Frequency vs Total amount\n"
   ]
  },
  {
   "cell_type": "code",
   "execution_count": null,
   "metadata": {},
   "outputs": [],
   "source": [
    "plt.scatter(x=df_user.query(\"Segment == 'Low-Value'\")['Frequency'],\n",
    "        y=df_user.query(\"Segment == 'Low-Value'\")['Total_amount'])\n",
    "\n",
    "plt.scatter(x=df_user.query(\"Segment == 'Mid-Value'\")['Frequency'],\n",
    "        y=df_user.query(\"Segment == 'Mid-Value'\")['Total_amount'])\n",
    "\n",
    "plt.scatter(x=df_user.query(\"Segment == 'High-Value'\")['Frequency'],\n",
    "        y=df_user.query(\"Segment == 'High-Value'\")['Total_amount'])"
   ]
  },
  {
   "cell_type": "markdown",
   "metadata": {},
   "source": [
    "#### Recency vs Total amount\n"
   ]
  },
  {
   "cell_type": "code",
   "execution_count": null,
   "metadata": {},
   "outputs": [],
   "source": [
    "plt.scatter(x=df_user.query(\"Segment == 'Low-Value'\")['Recency'],\n",
    "        y=df_user.query(\"Segment == 'Low-Value'\")['Total_amount'])\n",
    "\n",
    "plt.scatter(x=df_user.query(\"Segment == 'Mid-Value'\")['Recency'],\n",
    "        y=df_user.query(\"Segment == 'Mid-Value'\")['Total_amount'])\n",
    "\n",
    "plt.scatter(x=df_user.query(\"Segment == 'High-Value'\")['Recency'],\n",
    "        y=df_user.query(\"Segment == 'High-Value'\")['Total_amount'])"
   ]
  },
  {
   "cell_type": "markdown",
   "metadata": {},
   "source": [
    "#### Recency vs Frequency\n"
   ]
  },
  {
   "cell_type": "code",
   "execution_count": null,
   "metadata": {},
   "outputs": [],
   "source": [
    "plt.scatter(x=df_user.query(\"Segment == 'Low-Value'\")['Recency'],\n",
    "        y=df_user.query(\"Segment == 'Low-Value'\")['Frequency'])\n",
    "\n",
    "plt.scatter(x=df_user.query(\"Segment == 'Mid-Value'\")['Recency'],\n",
    "        y=df_user.query(\"Segment == 'Mid-Value'\")['Frequency'])\n",
    "\n",
    "plt.scatter(x=df_user.query(\"Segment == 'High-Value'\")['Recency'],\n",
    "        y=df_user.query(\"Segment == 'High-Value'\")['Frequency'])"
   ]
  },
  {
   "cell_type": "markdown",
   "metadata": {},
   "source": [
    "#### Total amount vs Frequency"
   ]
  },
  {
   "cell_type": "code",
   "execution_count": null,
   "metadata": {},
   "outputs": [],
   "source": [
    "plt.scatter(x=df_user.query(\"Segment == 'Low-Value'\")['Total_amount'],\n",
    "        y=df_user.query(\"Segment == 'Low-Value'\")['Frequency'])\n",
    "\n",
    "plt.scatter(x=df_user.query(\"Segment == 'Mid-Value'\")['Total_amount'],\n",
    "        y=df_user.query(\"Segment == 'Mid-Value'\")['Frequency'])\n",
    "\n",
    "plt.scatter(x=df_user.query(\"Segment == 'High-Value'\")['Total_amount'],\n",
    "        y=df_user.query(\"Segment == 'High-Value'\")['Frequency'])"
   ]
  },
  {
   "cell_type": "markdown",
   "metadata": {},
   "source": [
    "Hence, we've successfully segmented our customers and these segments can now help us in various processes of building the business such as sales and marketing."
   ]
  }
 ],
 "metadata": {
  "kernelspec": {
   "display_name": "Python 3 (ipykernel)",
   "language": "python",
   "name": "python3"
  },
  "language_info": {
   "codemirror_mode": {
    "name": "ipython",
    "version": 3
   },
   "file_extension": ".py",
   "mimetype": "text/x-python",
   "name": "python",
   "nbconvert_exporter": "python",
   "pygments_lexer": "ipython3",
   "version": "3.9.12"
  }
 },
 "nbformat": 4,
 "nbformat_minor": 4
}
